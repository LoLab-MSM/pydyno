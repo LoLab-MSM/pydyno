{
 "cells": [
  {
   "cell_type": "code",
   "execution_count": null,
   "metadata": {},
   "outputs": [],
   "source": [
    "# Importing libraries\n",
    "import pickle\n",
    "from tropical import clustering"
   ]
  },
  {
   "cell_type": "code",
   "execution_count": null,
   "metadata": {},
   "outputs": [],
   "source": [
    "# Loading dynamic signatures\n",
    "with open('signatures.pickle', 'rb') as handle:\n",
    "    all_signatures = pickle.load(handle)\n",
    "\n",
    "# Obtaining signature of how the species 0 (the enzyme) is being consumend\n",
    "sp0_sign_reactants = all_signatures[0]['consumption']\n",
    "\n",
    "# Initializing clustering object\n",
    "clus = clustering.ClusterSequences(sp0_sign_reactants, unique_sequences=False)\n",
    "clus.diss_matrix()\n",
    "clus.Kmeans(2)\n",
    "clus.silhouette_score"
   ]
  },
  {
   "cell_type": "code",
   "execution_count": null,
   "metadata": {},
   "outputs": [],
   "source": [
    "%matplotlib inline\n",
    "# Plotting clustered signatures\n",
    "pl = clustering.PlotSequences(clus)\n",
    "pl.all_trajectories_plot()"
   ]
  }
 ],
 "metadata": {
  "kernelspec": {
   "display_name": "Python 2",
   "language": "python",
   "name": "python2"
  },
  "language_info": {
   "codemirror_mode": {
    "name": "ipython",
    "version": 2
   },
   "file_extension": ".py",
   "mimetype": "text/x-python",
   "name": "python",
   "nbconvert_exporter": "python",
   "pygments_lexer": "ipython2",
   "version": "2.7.13"
  }
 },
 "nbformat": 4,
 "nbformat_minor": 1
}
