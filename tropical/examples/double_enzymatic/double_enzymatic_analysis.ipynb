{
 "cells": [
  {
   "cell_type": "code",
   "execution_count": 1,
   "metadata": {},
   "outputs": [],
   "source": [
    "# Importing libraries\n",
    "import pickle\n",
    "from tropical import clustering"
   ]
  },
  {
   "cell_type": "code",
   "execution_count": 2,
   "metadata": {},
   "outputs": [
    {
     "data": {
      "text/plain": [
       "<bound method ClusterSequences.silhouette_score of <tropical.clustering.ClusterSequences object at 0x111b954d0>>"
      ]
     },
     "execution_count": 2,
     "metadata": {},
     "output_type": "execute_result"
    }
   ],
   "source": [
    "# Loading dynamic signatures\n",
    "with open('signatures.pickle', 'rb') as handle:\n",
    "    all_signatures = pickle.load(handle)\n",
    "\n",
    "# Obtaining signature of how the species 0 (the enzyme) is being consumend\n",
    "sp0_sign_reactants = all_signatures[0]['consumption']\n",
    "\n",
    "# Initializing clustering object\n",
    "clus = clustering.ClusterSequences(sp0_sign_reactants, unique_sequences=False)\n",
    "clus.diss_matrix()\n",
    "clus.Kmeans(2)\n",
    "clus.silhouette_score()"
   ]
  },
  {
   "cell_type": "code",
   "execution_count": 3,
   "metadata": {},
   "outputs": [
    {
     "data": {
      "image/png": "[encoded data removed]",
      "text/plain": [
       "<matplotlib.figure.Figure at 0x10cc82990>"
      ]
     },
     "metadata": {},
     "output_type": "display_data"
    }
   ],
   "source": [
    "%matplotlib inline\n",
    "# Plotting clustered signatures\n",
    "pl = clustering.PlotSequences(clus)\n",
    "pl.all_trajectories_plot()"
   ]
  },
  {
   "cell_type": "code",
   "execution_count": null,
   "metadata": {},
   "outputs": [],
   "source": [
    "from tropical.examples.double_enzymatic.mm_two_paths_model import model\n",
    "from pysb.simulator.base import SimulationResult\n",
    "\n",
    "# load simulations\n",
    "sims = SimulationResult.load()"
   ]
  }
 ],
 "metadata": {
  "kernelspec": {
   "display_name": "Python 2",
   "language": "python",
   "name": "python2"
  },
  "language_info": {
   "codemirror_mode": {
    "name": "ipython",
    "version": 2
   },
   "file_extension": ".py",
   "mimetype": "text/x-python",
   "name": "python",
   "nbconvert_exporter": "python",
   "pygments_lexer": "ipython2",
   "version": "2.7.13"
  }
 },
 "nbformat": 4,
 "nbformat_minor": 1
}
